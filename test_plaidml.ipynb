{
 "cells": [
  {
   "cell_type": "code",
   "execution_count": 1,
   "metadata": {},
   "outputs": [],
   "source": [
    "import plaidml.keras\n",
    "plaidml.keras.install_backend()\n",
    "import os\n",
    "os.environ[\"KERAS_BACKEND\"] = \"plaidml.keras.backend\""
   ]
  },
  {
   "cell_type": "code",
   "execution_count": 5,
   "metadata": {},
   "outputs": [],
   "source": [
    "import pkg_resources as pkg"
   ]
  },
  {
   "cell_type": "code",
   "execution_count": 3,
   "metadata": {},
   "outputs": [
    {
     "name": "stdout",
     "output_type": "stream",
     "text": [
      "Downloading data from http://fashion-mnist.s3-website.eu-central-1.amazonaws.com/train-labels-idx1-ubyte.gz\n",
      "32768/29515 [=================================] - 0s 1us/step\n",
      "Downloading data from http://fashion-mnist.s3-website.eu-central-1.amazonaws.com/train-images-idx3-ubyte.gz\n",
      "26427392/26421880 [==============================] - 2s 0us/step\n",
      "Downloading data from http://fashion-mnist.s3-website.eu-central-1.amazonaws.com/t10k-labels-idx1-ubyte.gz\n",
      "8192/5148 [===============================================] - 0s 0us/step\n",
      "Downloading data from http://fashion-mnist.s3-website.eu-central-1.amazonaws.com/t10k-images-idx3-ubyte.gz\n",
      "4423680/4422102 [==============================] - 0s 0us/step\n"
     ]
    }
   ],
   "source": [
    "import keras\n",
    "from keras.models import Sequential\n",
    "from keras.layers import Dense, Dropout, Flatten\n",
    "from keras.layers import Conv2D, MaxPooling2D\n",
    "from keras import backend as K\n",
    "\n",
    "# Download fashion dataset from Keras\n",
    "fashion_mnist = keras.datasets.fashion_mnist\n",
    "(x_train, y_train), (x_test, y_test) = keras.datasets.fashion_mnist.load_data()\n",
    "\n",
    "# Reshape and normalize the data\n",
    "x_train = x_train.astype('float32').reshape(60000,28,28,1) / 255\n",
    "x_test = x_test.astype('float32').reshape(10000,28,28,1) / 255"
   ]
  },
  {
   "cell_type": "code",
   "execution_count": 4,
   "metadata": {},
   "outputs": [
    {
     "name": "stderr",
     "output_type": "stream",
     "text": [
      "INFO:plaidml:Opening device \"metal_amd_radeon_pro_560x.0\"\n"
     ]
    }
   ],
   "source": [
    "# Build a CNN model. You should see \"INFO:plaidml:Opening device xxx\" after you run this chunk\n",
    "model = keras.Sequential()\n",
    "model.add(keras.layers.Conv2D(filters=64, kernel_size=2, padding='same', activation='relu', input_shape=(28,28,1))) \n",
    "model.add(keras.layers.MaxPooling2D(pool_size=2))\n",
    "model.add(keras.layers.Dropout(0.3))\n",
    "model.add(keras.layers.Conv2D(filters=32, kernel_size=2, padding='same', activation='relu'))\n",
    "model.add(keras.layers.MaxPooling2D(pool_size=2))\n",
    "model.add(keras.layers.Dropout(0.3))\n",
    "model.add(keras.layers.Flatten())\n",
    "model.add(keras.layers.Dense(256, activation='relu'))\n",
    "model.add(keras.layers.Dropout(0.5))\n",
    "model.add(keras.layers.Dense(10, activation='softmax'))\n",
    "\n",
    "# Compile the model\n",
    "model.compile(optimizer='adam',\n",
    "              loss=keras.losses.sparse_categorical_crossentropy,\n",
    "              metrics=['accuracy'])"
   ]
  },
  {
   "cell_type": "code",
   "execution_count": 5,
   "metadata": {},
   "outputs": [
    {
     "name": "stdout",
     "output_type": "stream",
     "text": [
      "Epoch 1/10\n",
      "59968/60000 [============================>.] - ETA: 0s - loss: 0.5829 - acc: 0.7839"
     ]
    },
    {
     "name": "stderr",
     "output_type": "stream",
     "text": [
      "INFO:plaidml:Analyzing Ops: 89 of 248 operations complete\n"
     ]
    },
    {
     "name": "stdout",
     "output_type": "stream",
     "text": [
      "60000/60000 [==============================] - 50s 834us/step - loss: 0.5828 - acc: 0.7840\n",
      "Epoch 2/10\n",
      "60000/60000 [==============================] - 48s 802us/step - loss: 0.4027 - acc: 0.8537\n",
      "Epoch 3/10\n",
      "60000/60000 [==============================] - 57s 946us/step - loss: 0.3617 - acc: 0.8667\n",
      "Epoch 4/10\n",
      "60000/60000 [==============================] - 49s 808us/step - loss: 0.3338 - acc: 0.8777\n",
      "Epoch 5/10\n",
      "60000/60000 [==============================] - 42s 696us/step - loss: 0.3126 - acc: 0.8858\n",
      "Epoch 6/10\n",
      "60000/60000 [==============================] - 50s 829us/step - loss: 0.2986 - acc: 0.8924\n",
      "Epoch 7/10\n",
      "60000/60000 [==============================] - 43s 718us/step - loss: 0.2916 - acc: 0.8941\n",
      "Epoch 8/10\n",
      "60000/60000 [==============================] - 48s 798us/step - loss: 0.2780 - acc: 0.8976\n",
      "Epoch 9/10\n",
      "60000/60000 [==============================] - 57s 948us/step - loss: 0.2713 - acc: 0.9004\n",
      "Epoch 10/10\n",
      "60000/60000 [==============================] - 58s 959us/step - loss: 0.2639 - acc: 0.9024\n",
      "\n",
      " Test accuracy: 0.9133\n"
     ]
    }
   ],
   "source": [
    "# Fit the model on training set\n",
    "model.fit(x_train, y_train,\n",
    "          batch_size=64,\n",
    "          epochs=10)\n",
    "\n",
    "# Evaluate the model on test set\n",
    "score = model.evaluate(x_test, y_test, verbose=0)\n",
    "# Print test accuracy\n",
    "print('\\n', 'Test accuracy:', score[1])"
   ]
  },
  {
   "cell_type": "code",
   "execution_count": 6,
   "metadata": {},
   "outputs": [],
   "source": [
    "os.environ[\"KERAS_BACKEND\"] = \"tensorflow\""
   ]
  },
  {
   "cell_type": "code",
   "execution_count": 5,
   "metadata": {},
   "outputs": [
    {
     "data": {
      "text/html": [
       "<div>\n",
       "<style scoped>\n",
       "    .dataframe tbody tr th:only-of-type {\n",
       "        vertical-align: middle;\n",
       "    }\n",
       "\n",
       "    .dataframe tbody tr th {\n",
       "        vertical-align: top;\n",
       "    }\n",
       "\n",
       "    .dataframe thead th {\n",
       "        text-align: right;\n",
       "    }\n",
       "</style>\n",
       "<table border=\"1\" class=\"dataframe\">\n",
       "  <thead>\n",
       "    <tr style=\"text-align: right;\">\n",
       "      <th></th>\n",
       "      <th>Unnamed: 0</th>\n",
       "      <th>ImageId</th>\n",
       "      <th>PolygonWKT_Pix</th>\n",
       "      <th>Confidence</th>\n",
       "    </tr>\n",
       "  </thead>\n",
       "  <tbody>\n",
       "    <tr>\n",
       "      <th>0</th>\n",
       "      <td>0</td>\n",
       "      <td>20190823074455_20190823074758_tile_10205</td>\n",
       "      <td>POLYGON ((692 717, 692 716, 691 716, 686 716, ...</td>\n",
       "      <td>0.673689</td>\n",
       "    </tr>\n",
       "    <tr>\n",
       "      <th>1</th>\n",
       "      <td>1</td>\n",
       "      <td>20190823074455_20190823074758_tile_10205</td>\n",
       "      <td>POLYGON ((200 710, 200 709, 199 709, 191 709, ...</td>\n",
       "      <td>0.781850</td>\n",
       "    </tr>\n",
       "    <tr>\n",
       "      <th>2</th>\n",
       "      <td>2</td>\n",
       "      <td>20190823074455_20190823074758_tile_10205</td>\n",
       "      <td>POLYGON ((29 708, 29 707, 28 707, 26 707, 26 7...</td>\n",
       "      <td>0.623362</td>\n",
       "    </tr>\n",
       "    <tr>\n",
       "      <th>3</th>\n",
       "      <td>3</td>\n",
       "      <td>20190823074455_20190823074758_tile_10205</td>\n",
       "      <td>POLYGON ((416 710, 416 709, 415 709, 413 709, ...</td>\n",
       "      <td>0.818691</td>\n",
       "    </tr>\n",
       "    <tr>\n",
       "      <th>4</th>\n",
       "      <td>4</td>\n",
       "      <td>20190823074455_20190823074758_tile_10205</td>\n",
       "      <td>POLYGON ((797 717, 797 716, 796 716, 785 716, ...</td>\n",
       "      <td>0.795862</td>\n",
       "    </tr>\n",
       "    <tr>\n",
       "      <th>...</th>\n",
       "      <td>...</td>\n",
       "      <td>...</td>\n",
       "      <td>...</td>\n",
       "      <td>...</td>\n",
       "    </tr>\n",
       "    <tr>\n",
       "      <th>743</th>\n",
       "      <td>743</td>\n",
       "      <td>20190804133705_20190804133940_tile_5545</td>\n",
       "      <td>POLYGON ((506 140, 506 139, 505 139, 503 139, ...</td>\n",
       "      <td>0.777562</td>\n",
       "    </tr>\n",
       "    <tr>\n",
       "      <th>744</th>\n",
       "      <td>744</td>\n",
       "      <td>20190804133705_20190804133940_tile_5545</td>\n",
       "      <td>POLYGON ((797 107, 797 105, 796 105, 796 104, ...</td>\n",
       "      <td>0.768874</td>\n",
       "    </tr>\n",
       "    <tr>\n",
       "      <th>745</th>\n",
       "      <td>745</td>\n",
       "      <td>20190804133705_20190804133940_tile_5545</td>\n",
       "      <td>POLYGON ((657 45, 657 44, 656 44, 656 43, 655 ...</td>\n",
       "      <td>0.739591</td>\n",
       "    </tr>\n",
       "    <tr>\n",
       "      <th>746</th>\n",
       "      <td>746</td>\n",
       "      <td>20190804133705_20190804133940_tile_5545</td>\n",
       "      <td>POLYGON ((720 191, 720 190, 719 190, 716 190, ...</td>\n",
       "      <td>0.725236</td>\n",
       "    </tr>\n",
       "    <tr>\n",
       "      <th>747</th>\n",
       "      <td>747</td>\n",
       "      <td>20190804133705_20190804133940_tile_5545</td>\n",
       "      <td>POLYGON ((858 94, 858 93, 857 93, 856 93, 856 ...</td>\n",
       "      <td>0.759638</td>\n",
       "    </tr>\n",
       "  </tbody>\n",
       "</table>\n",
       "<p>748 rows × 4 columns</p>\n",
       "</div>"
      ],
      "text/plain": [
       "     Unnamed: 0                                   ImageId  \\\n",
       "0             0  20190823074455_20190823074758_tile_10205   \n",
       "1             1  20190823074455_20190823074758_tile_10205   \n",
       "2             2  20190823074455_20190823074758_tile_10205   \n",
       "3             3  20190823074455_20190823074758_tile_10205   \n",
       "4             4  20190823074455_20190823074758_tile_10205   \n",
       "..          ...                                       ...   \n",
       "743         743   20190804133705_20190804133940_tile_5545   \n",
       "744         744   20190804133705_20190804133940_tile_5545   \n",
       "745         745   20190804133705_20190804133940_tile_5545   \n",
       "746         746   20190804133705_20190804133940_tile_5545   \n",
       "747         747   20190804133705_20190804133940_tile_5545   \n",
       "\n",
       "                                        PolygonWKT_Pix  Confidence  \n",
       "0    POLYGON ((692 717, 692 716, 691 716, 686 716, ...    0.673689  \n",
       "1    POLYGON ((200 710, 200 709, 199 709, 191 709, ...    0.781850  \n",
       "2    POLYGON ((29 708, 29 707, 28 707, 26 707, 26 7...    0.623362  \n",
       "3    POLYGON ((416 710, 416 709, 415 709, 413 709, ...    0.818691  \n",
       "4    POLYGON ((797 717, 797 716, 796 716, 785 716, ...    0.795862  \n",
       "..                                                 ...         ...  \n",
       "743  POLYGON ((506 140, 506 139, 505 139, 503 139, ...    0.777562  \n",
       "744  POLYGON ((797 107, 797 105, 796 105, 796 104, ...    0.768874  \n",
       "745  POLYGON ((657 45, 657 44, 656 44, 656 43, 655 ...    0.739591  \n",
       "746  POLYGON ((720 191, 720 190, 719 190, 716 190, ...    0.725236  \n",
       "747  POLYGON ((858 94, 858 93, 857 93, 856 93, 856 ...    0.759638  \n",
       "\n",
       "[748 rows x 4 columns]"
      ]
     },
     "execution_count": 5,
     "metadata": {},
     "output_type": "execute_result"
    }
   ],
   "source": [
    "import pandas as pd \n",
    "pd.read_csv('solutions/train_2020-04-25T07:07.csv')[['ImageId']]"
   ]
  },
  {
   "cell_type": "code",
   "execution_count": null,
   "metadata": {},
   "outputs": [],
   "source": []
  }
 ],
 "metadata": {
  "kernelspec": {
   "display_name": "Python 3",
   "language": "python",
   "name": "python3"
  },
  "language_info": {
   "codemirror_mode": {
    "name": "ipython",
    "version": 3
   },
   "file_extension": ".py",
   "mimetype": "text/x-python",
   "name": "python",
   "nbconvert_exporter": "python",
   "pygments_lexer": "ipython3",
   "version": "3.6.9"
  }
 },
 "nbformat": 4,
 "nbformat_minor": 4
}
